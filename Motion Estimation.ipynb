{
 "cells": [
  {
   "cell_type": "code",
   "execution_count": 1,
   "metadata": {},
   "outputs": [],
   "source": [
    "import cv2\n",
    "import numpy as np\n",
    "import matplotlib.pyplot as plt\n",
    "import matplotlib.image as mpimg"
   ]
  },
  {
   "cell_type": "code",
   "execution_count": 8,
   "metadata": {},
   "outputs": [],
   "source": [
    "# Dividing into blocks 16 * 16 \n",
    "def pixel_dividing(img , n  ,b_z) : \n",
    "    x = img.shape[0]//b_z * b_z\n",
    "    y = img.shape[1]//b_z * b_z\n",
    "    \n",
    "    # getting 8*8 pixels\n",
    "    blocks = np.array([img[i:i+b_z, j:j+b_z , :] for i in range(0,x,b_z) for j in range(0,y,b_z)])\n",
    "    \n",
    "    # getting only one color \n",
    "    BLOCKS=blocks[n]\n",
    "    print(np.shape(blocks))\n",
    "    return blocks"
   ]
  },
  {
   "cell_type": "code",
   "execution_count": 9,
   "metadata": {},
   "outputs": [],
   "source": [
    "# dividing the image into 48 * 48\n",
    "def searching_area(img , n , b_z ) : \n",
    "    x = img.shape[0]//b_z * b_z\n",
    "    y = img.shape[1]//b_z * b_z\n",
    "    \n",
    "    # getting 8*8 pixels\n",
    "    blocks = np.array([img[i:i+48 , j:j+48 , :] for i in range(0,x,b_z) for j in range(0,y,b_z)])\n",
    "    \n",
    "    # getting only one color \n",
    "    BLOCKS=blocks[n]\n",
    "    print(np.shape(blocks))\n",
    "    return BLOCKS"
   ]
  },
  {
   "cell_type": "code",
   "execution_count": 10,
   "metadata": {},
   "outputs": [],
   "source": [
    "# corner cases array\n",
    "\n",
    "first_row = []\n",
    "last_row = []\n",
    "first_coloum = []\n",
    "last_coloum = []\n",
    "# first row\n",
    "# i-1\n",
    "for i in range(1,23):\n",
    "    first_row.append(i)\n",
    "# first coloum\n",
    "# the same\n",
    "for i in range(0,23):\n",
    "    first_coloum.append(i*23)\n",
    "# last coloum\n",
    "# - 25\n",
    "for i in range(1,23):\n",
    "    last_coloum.append(i*23 +21)\n",
    "# last row\n",
    "#- ( 2*23 + 1 )\n",
    "for i in range(1,22):\n",
    "    last_row.append(21*23 + i)"
   ]
  },
  {
   "cell_type": "code",
   "execution_count": 11,
   "metadata": {},
   "outputs": [],
   "source": [
    "# Mapping between the block and its searching area\n",
    "Dict = {} \n",
    "for i  in range(0,529):\n",
    "    #corner cases\n",
    "    if i in first_row:\n",
    "        Dict [i] = i-1\n",
    "    if i  in first_coloum:\n",
    "        Dict [i] = i\n",
    "    if i in last_coloum:\n",
    "        Dict [i] = i-25\n",
    "    if i in last_row:\n",
    "        Dict [i] = i - (2*23 + 1)\n",
    "    #normal\n",
    "    else:\n",
    "        Dict [i] = i - 24\n"
   ]
  },
  {
   "cell_type": "code",
   "execution_count": 12,
   "metadata": {},
   "outputs": [],
   "source": [
    "ref=mpimg.imread('frame1.jpg')\n",
    "#imgplot = plt.imshow(ref)"
   ]
  },
  {
   "cell_type": "code",
   "execution_count": 19,
   "metadata": {},
   "outputs": [
    {
     "name": "stdout",
     "output_type": "stream",
     "text": [
      "(484, 16, 16, 3)\n"
     ]
    },
    {
     "data": {
      "image/png": "[encoded data removed]",
      "text/plain": [
       "<Figure size 432x288 with 1 Axes>"
      ]
     },
     "metadata": {
      "needs_background": "light"
     },
     "output_type": "display_data"
    }
   ],
   "source": [
    "block = pixel_dividing(ref , 12 ,16)\n",
    "imgplot = plt.imshow(block[0])\n"
   ]
  },
  {
   "cell_type": "code",
   "execution_count": 13,
   "metadata": {},
   "outputs": [],
   "source": [
    "crr = mpimg.imread('frame2.jpg')\n",
    "#plt.imshow(crr)"
   ]
  },
  {
   "cell_type": "code",
   "execution_count": null,
   "metadata": {},
   "outputs": [],
   "source": []
  }
 ],
 "metadata": {
  "kernelspec": {
   "display_name": "Python 3",
   "language": "python",
   "name": "python3"
  },
  "language_info": {
   "codemirror_mode": {
    "name": "ipython",
    "version": 3
   },
   "file_extension": ".py",
   "mimetype": "text/x-python",
   "name": "python",
   "nbconvert_exporter": "python",
   "pygments_lexer": "ipython3",
   "version": "3.7.4"
  }
 },
 "nbformat": 4,
 "nbformat_minor": 2
}
